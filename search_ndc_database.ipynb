{
 "cells": [
  {
   "cell_type": "code",
   "execution_count": 20,
   "metadata": {},
   "outputs": [
    {
     "name": "stdout",
     "output_type": "stream",
     "text": [
      "['Olmesartan Medoxomil And Hydrochlorothiazide ', 'Olmesartan Medoxomil And Hydrochlorothiazide', 'Tablet', 'Oral', 'Alembic Pharmaceuticals Inc.', 'Human Prescription Drug']\n"
     ]
    }
   ],
   "source": [
    "import requests\n",
    "import bs4\n",
    "import re\n",
    "\n",
    "found_drug_information = search_ndc_database('233215')\n",
    "print(found_drug_information)\n",
    "\n",
    "def search_ndc_database(NDC):\n",
    "    url = 'https://ndclist.com/?s='\n",
    "    search_url = url + NDC\n",
    "\n",
    "    response = requests.get(search_url)\n",
    "    soup = bs4.BeautifulSoup(response.text)\n",
    "    \n",
    "    response = []\n",
    "    response.append(str(soup.findAll(\"td\", {\"data-title\": \"Proprietary Name\"})[0]))\n",
    "    response.append(str(soup.findAll(\"td\", {\"data-title\": \"Non-Proprietary Name\"})[0]))\n",
    "    response.append(str(soup.findAll(\"td\", {\"data-title\": \"Dosage Form\"})[0]))\n",
    "    response.append(str(soup.findAll(\"td\", {\"data-title\": \"Route Name\"})[0]))\n",
    "    response.append(str(soup.findAll(\"td\", {\"data-title\": \"Company Name\"})[0]))\n",
    "    response.append(str(soup.findAll(\"td\", {\"data-title\": \"Product Type\"})[0]))\n",
    "    \n",
    "    clean_response = []\n",
    "    for item in response:\n",
    "        clean_response.append(re.findall(r\"\\>(.*?)\\<\",(str(item)))[0])\n",
    "        \n",
    "    return clean_response"
   ]
  },
  {
   "cell_type": "code",
   "execution_count": null,
   "metadata": {},
   "outputs": [],
   "source": []
  },
  {
   "cell_type": "code",
   "execution_count": null,
   "metadata": {},
   "outputs": [],
   "source": []
  }
 ],
 "metadata": {
  "kernelspec": {
   "display_name": "Python 3",
   "language": "python",
   "name": "python3"
  },
  "language_info": {
   "codemirror_mode": {
    "name": "ipython",
    "version": 3
   },
   "file_extension": ".py",
   "mimetype": "text/x-python",
   "name": "python",
   "nbconvert_exporter": "python",
   "pygments_lexer": "ipython3",
   "version": "3.6.4"
  }
 },
 "nbformat": 4,
 "nbformat_minor": 2
}
